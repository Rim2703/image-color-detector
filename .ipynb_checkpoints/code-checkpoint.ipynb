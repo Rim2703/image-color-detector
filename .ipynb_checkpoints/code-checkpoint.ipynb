{
 "cells": [
  {
   "cell_type": "code",
   "execution_count": 5,
   "id": "3ded4d29-f077-4f9c-8522-3db118e45810",
   "metadata": {},
   "outputs": [],
   "source": [
    "import cv2"
   ]
  },
  {
   "cell_type": "code",
   "execution_count": null,
   "id": "5a326a0d-042d-440d-b38f-fca433e5f7f3",
   "metadata": {},
   "outputs": [],
   "source": [
    "import "
   ]
  },
  {
   "cell_type": "code",
   "execution_count": null,
   "id": "04c47df8-a17a-4a64-9290-e98d41e80dc5",
   "metadata": {},
   "outputs": [],
   "source": [
    "from PIL import Image"
   ]
  },
  {
   "cell_type": "code",
   "execution_count": null,
   "id": "a1d54b46-451c-4231-ba62-ea2c0fc8b4f7",
   "metadata": {},
   "outputs": [],
   "source": [
    "yellow = [0,255,255]"
   ]
  },
  {
   "cell_type": "code",
   "execution_count": 4,
   "id": "122bea8a-99cd-46a2-8de6-f28c70668317",
   "metadata": {},
   "outputs": [],
   "source": [
    "cap = cv2.VideoCapture(2)"
   ]
  }
 ],
 "metadata": {
  "kernelspec": {
   "display_name": "Python 3 (ipykernel)",
   "language": "python",
   "name": "python3"
  },
  "language_info": {
   "codemirror_mode": {
    "name": "ipython",
    "version": 3
   },
   "file_extension": ".py",
   "mimetype": "text/x-python",
   "name": "python",
   "nbconvert_exporter": "python",
   "pygments_lexer": "ipython3",
   "version": "3.12.4"
  }
 },
 "nbformat": 4,
 "nbformat_minor": 5
}
